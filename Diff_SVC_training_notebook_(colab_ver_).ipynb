{
  "nbformat": 4,
  "nbformat_minor": 0,
  "metadata": {
    "colab": {
      "provenance": [],
      "include_colab_link": true
    },
    "kernelspec": {
      "name": "python3",
      "display_name": "Python 3"
    },
    "language_info": {
      "name": "python"
    },
    "gpuClass": "standard",
    "accelerator": "GPU"
  },
  "cells": [
    {
      "cell_type": "markdown",
      "metadata": {
        "id": "view-in-github",
        "colab_type": "text"
      },
      "source": [
        "<a href=\"https://colab.research.google.com/github/haru0l/Diff-SVC-notebooks/blob/test/Diff_SVC_training_notebook_(colab_ver_).ipynb\" target=\"_parent\"><img src=\"https://colab.research.google.com/assets/colab-badge.svg\" alt=\"Open In Colab\"/></a>"
      ]
    },
    {
      "cell_type": "markdown",
      "source": [
        "Training notebook for [Diff-SVC](https://github.com/prophesier/diff-svc) written by [Nekro](https://twitter.com/NekroTheCorpse) of [Archivoice](https://github.com/archivoice)\n"
      ],
      "metadata": {
        "id": "qI-wDbQDmSjx"
      }
    },
    {
      "cell_type": "markdown",
      "source": [
        "# Check Setup"
      ],
      "metadata": {
        "id": "G6guqBnrD3qb"
      }
    },
    {
      "cell_type": "code",
      "execution_count": null,
      "metadata": {
        "cellView": "form",
        "id": "WcC2XWVgC4T0"
      },
      "outputs": [],
      "source": [
        "#@title #Check GPU type\n",
        "#@markdown this is for checking the GPU type you have as well as the available amount of vram.\n",
        "!nvidia-smi -L\n",
        "!nvidia-smi"
      ]
    },
    {
      "cell_type": "code",
      "source": [
        "#@title #Mount Google Drive\n",
        "\n",
        "#@markdown Makes your life easier when uploading and saving stuff.\n",
        "\n",
        "from google.colab import drive\n",
        "drive.flush_and_unmount()\n",
        "!rm -rf /content/drive\n",
        "drive.mount('/content/drive')\n",
        "print('Done!')"
      ],
      "metadata": {
        "cellView": "form",
        "id": "VSyF4oZhDxgW"
      },
      "execution_count": null,
      "outputs": []
    },
    {
      "cell_type": "markdown",
      "source": [
        "# Preparation"
      ],
      "metadata": {
        "id": "MGNHNSGcEFHj"
      }
    },
    {
      "cell_type": "code",
      "source": [
        "#@title #Step 1: Install Diff-SVC\n",
        "#@markdown The stuff you'll need for every other thing afterwards.\n",
        "from IPython.display import clear_output\n",
        "import os\n",
        "print('Upgrading pip & installing 7zip')\n",
        "!rm -rf /content/sample_data\n",
        "!python -m pip install --upgrade pip\n",
        "!python -m pip install --upgrade wheel\n",
        "!apt-get install unzip\n",
        "!pip install gdown\n",
        "!pip uninstall gdown -y\n",
        "!pip install git+https://github.com/justinjohn0306/gdown.git\n",
        "\n",
        "print('Installing torch')\n",
        "%pip install torch==1.12.1+cu113 torchvision==0.13.1+cu113 torchaudio==0.12.1+cu113 -f https://download.pytorch.org/whl/cu113/torch_stable.html\n",
        "!pip install --pre torchtext==0.6.0 --no-deps\n",
        "\n",
        "#@markdown ---\n",
        "#@markdown ###Select which fork to use\n",
        "#@markdown The official repo is up-to-date, while UtaUtaUtau's version has Harvest support for improved f0.\n",
        "fork = 'Official Diff-SVC Repo' #@param [\"Official Diff-SVC Repo\", \"UtaUtaUtau's Repo\"]\n",
        "\n",
        "print('Installing Diff-SVC')\n",
        "if fork == \"Official Diff-SVC Repo\":\n",
        "  !git clone https://github.com/prophesier/diff-svc\n",
        "else:\n",
        "  !pip install --upgrade numpy==1.23.0\n",
        "  !pip install --upgrade scipy==1.9.3\n",
        "  !git clone --branch harvest-preprocess https://github.com/UtaUtaUtau/diff-svc\n",
        "%cd \n",
        "\n",
        "print('Installing requirements')\n",
        "%cd \"/content/diff-svc/\"\n",
        "!pip install -r requirements_short.txt\n",
        "!pip install tensorboard<2.9,>=2.8\n",
        "%reload_ext tensorboard\n",
        "\n",
        "%cd \"/content/diff-svc/training/\"\n",
        "!rm config.yaml\n",
        "!wget https://github.com/haru0l/Diff-SVC-notebooks/releases/download/checkpoints/config.yaml -O config.yaml\n",
        "%cd \"/content/\"\n",
        "!wget \"https://github.com/haru0l/Diff-SVC-notebooks/releases/download/checkpoints/checkpoints.zip\" -O checkpoints.zip\n",
        "!unzip /content/checkpoints.zip -d /content/diff-svc/\n",
        "\n",
        "#@markdown ---\n",
        "#@markdown ###Use custom save directory\n",
        "#@markdown You can change the directory to save wherever you want. Default location is /diff-svc/checkpoint if unchanged.\n",
        "\n",
        "#@markdown Please point to a directory with the singer name already specified (example /content/drive/MyDrive/diff-svc/nyaru)\n",
        "\n",
        "use_save_dir = False #@param {type: \"boolean\"}\n",
        "\n",
        "save_dir = \"/content/diff-svc/checkpoints\" #@param {type: \"string\"}\n",
        "save_dir = save_dir.replace(\" \", \"_\")\n",
        "\n",
        "if use_save_dir:\n",
        "  %cd /content/diff-svc/utils\n",
        "  !rm -rf hparams.py\n",
        "  !wget https://github.com/prophesier/diff-svc/raw/main/utils/hparams.py\n",
        "  !sed -i -r 's|checkpoints/\\{args.work_dir}|haruwashere|g' /content/diff-svc/utils/hparams.py\n",
        "  !sed -i -r 's|haruwashere|{save_dir}|g' /content/diff-svc/utils/hparams.py\n",
        "  %cd /content/\n",
        "else:\n",
        "  %cd /content/diff-svc/utils\n",
        "  !rm -rf hparams.py\n",
        "  !wget https://github.com/prophesier/diff-svc/raw/main/utils/hparams.py\n",
        "  %cd /content/\n",
        "\n",
        "#clear_output()\n",
        "print('Done!')"
      ],
      "metadata": {
        "id": "IYxufeQ9EKuY",
        "cellView": "form"
      },
      "execution_count": null,
      "outputs": []
    },
    {
      "cell_type": "code",
      "source": [
        "#@title #Step 2: Decompress dataset\n",
        "#@markdown This should work with most common archive formats, so don't worry. Please stick with the alphabet characters otherwise preprocessing might error out.\n",
        "\n",
        "#@markdown Supported types: `.rar`, `.zip`, `.tar`, `.tar.gz`, `.tar.bz2`, `.7z`\n",
        "\n",
        "#@markdown ###Note that your dataset should consist of `.wav` or `.ogg` format audio\n",
        "#@markdown ---\n",
        "#@markdown Name your singer.\n",
        "singer_name = 'Unnamed' #@param {type: \"string\"}\n",
        "singer_name = singer_name.replace(\" \", \"_\")\n",
        "%cd \"/content/\"\n",
        "!sed -i -r 's/atri/{singer_name}/g' /content/diff-svc/training/config.yaml\n",
        "\n",
        "#@markdown ---\n",
        "#@markdown File location\n",
        "!mkdir -p /content/diff-svc/data/raw\n",
        "dataset_location = '/content/drive/MyDrive/*' #@param {type: \"string\"}\n",
        "diffsvc_location = os.path.join('diff-svc', 'data', 'raw', singer_name, \"\")\n",
        "\n",
        "if dataset_location.endswith('.rar'):\n",
        "    !unrar x \"$dataset_location\" \"$diffsvc_location\"\n",
        "elif dataset_location.endswith('.zip'):\n",
        "    !unzip \"$dataset_location\" -d \"$diffsvc_location\"\n",
        "elif dataset_location.endswith('.tar'):\n",
        "    !tar -xf \"$dataset_location\" -C \"$diffsvc_location\"\n",
        "elif dataset_location.endswith('.tar.gz'):\n",
        "    !tar -xzf \"$dataset_location\" -C \"$diffsvc_location\"\n",
        "elif dataset_location.endswith('.tar.bz2'):\n",
        "    !tar -xjf \"$dataset_location\" -C \"$diffsvc_location\"\n",
        "else:\n",
        "    !7za x \"$dataset_location\" -o$diffsvc_location\n",
        "\n",
        "print('Done!')"
      ],
      "metadata": {
        "id": "7nAx7UOUHX_H",
        "cellView": "form"
      },
      "execution_count": null,
      "outputs": []
    },
    {
      "cell_type": "code",
      "source": [
        "#@title #Step 2-A: Decompress training data\n",
        "#@markdown Decompresses training data directly to `diff-svc/data/binary`, usable only if you already have the output files of Step 4.\n",
        "\n",
        "#@markdown If you run this step, please skip step 4.\n",
        "\n",
        "#@markdown Supported types: check above. \n",
        "\n",
        "#@markdown ###You must match the training settings of the config.yaml file you used to generated the preprocessed data.\n",
        "#@markdown ---\n",
        "#@markdown Name your singer.\n",
        "singer_name = 'Unnamed' #@param {type: \"string\"}\n",
        "singer_name = singer_name.replace(\" \", \"_\")\n",
        "!sed -i -r 's/atri/{singer_name}/g' /content/diff-svc/training/config.yaml\n",
        "\n",
        "#@markdown ---\n",
        "#@markdown File location\n",
        "!mkdir -p /content/diff-svc/data/binary\n",
        "preprocessed_data_location = '/content/drive/MyDrive/*' #@param {type: \"string\"}\n",
        "diffsvc_bin_location = '/content/diff-svc/data'\n",
        "\n",
        "if preprocessed_data_location.endswith('.rar'):\n",
        "    !unrar x \"$preprocessed_data_location\" \"$diffsvc_bin_location\"\n",
        "elif preprocessed_data_location.endswith('.zip'):\n",
        "    !unzip \"$preprocessed_data_location\" -d \"$diffsvc_bin_location\"\n",
        "elif preprocessed_data_location.endswith('.tar'):\n",
        "    !tar -xf \"$preprocessed_data_location\" -C \"$diffsvc_bin_location\"\n",
        "elif preprocessed_data_location.endswith('.tar.gz'):\n",
        "    !tar -xzf \"$preprocessed_data_location\" -C \"$diffsvc_bin_location\"\n",
        "elif preprocessed_data_location.endswith('.tar.bz2'):\n",
        "    !tar -xjf \"$preprocessed_data_location\" -C \"$diffsvc_bin_location\"\n",
        "else:\n",
        "    !7za x \"$preprocessed_data_location\" -o$diffsvc_bin_location\n",
        "\n",
        "print('Done!')"
      ],
      "metadata": {
        "id": "AbGW1MheDW2x",
        "cellView": "form"
      },
      "execution_count": null,
      "outputs": []
    },
    {
      "cell_type": "markdown",
      "source": [
        "# Training Options/Parameters\n",
        "Unfortunately, you can not get away with no editing, not completely that is."
      ],
      "metadata": {
        "id": "kc4uiI1WLsI7"
      }
    },
    {
      "cell_type": "code",
      "source": [
        "#@title #Step 3: Edit training parameters\n",
        "\n",
        "K_step = 1000\n",
        "\n",
        "batch_size = 12\n",
        "decay_steps = 60000\n",
        "lr = '0.0008'\n",
        "\n",
        "#@markdown ###F0 extraction method\n",
        "#@markdown Crepe is used for F0 extraction for data preprocessing, while it is of higher quality, it is slow, therefore set to false as default.\n",
        "\n",
        "#@markdown Unchecking this while using the official repo will default to parselmouth, while using UtaUtaUtau's repo will use harvest.\n",
        "use_crepe = True #@param {type: \"boolean\"}\n",
        "\n",
        "#@markdown ---\n",
        "#@markdown ###Set checkpoint interval\n",
        "#@markdown As the name states, saves a checkpoint at an interval. When using GPU training, it runs quite fast, so try not to touch this, there's no point.\n",
        "checkpoint_interval = 1000 #@param {type: \"integer\"}\n",
        "\n",
        "#@markdown ---\n",
        "#@markdown ###Disable FastSpeech2\n",
        "#@markdown This disables fastspeech for decreased model size and faster training. This works best when the 44.1kHz vocoder is released.\n",
        "\n",
        "#@markdown For 24kHz models, it is not suggested to use this, as your old models will become incompatible, and there's not much difference in training speed for 24kHz models anyway.\n",
        "disable_fs2 = False #@param {type: \"boolean\"}\n",
        "\n",
        "#@markdown ---\n",
        "#@markdown ###Pretrain model usage\n",
        "#@markdown This allows for faster training when in use. It is not recommended to use this if you have a sufficent amount of data. It is not recommended to use a pretrained model when you have over 3 hours of data.\n",
        "use_pretrain_model = False #@param {type: \"boolean\"}\n",
        "pretrain_model_select = \"nyaru (female)\" #@param [\"nyaru (female)\", \"nehito (male)\", \"opencpop (female)\", \"custom\"]\n",
        "\n",
        "#@markdown This allows for setting your own model path to pretrain from.\n",
        "pretrain_path = \"\" #@param {type:\"string\"}\n",
        "\n",
        "if use_pretrain_model:\n",
        "  %mkdir -p /content/diff-svc/pretrain/\n",
        "  %cd /content/diff-svc/pretrain/\n",
        "  lr = '0.00005'\n",
        "  if pretrain_model_select == \"nyaru (female)\":\n",
        "    !wget \"https://github.com/haru0l/Diff-SVC-notebooks/releases/download/models/nyaru.ckpt\"\n",
        "    pretrain_path = \"/content/diff-svc/pretrain/nyaru.ckpt\"\n",
        "    !sed -i -r 's|(load_ckpt:)(\\s+)(.+)|\\1\\2{pretrain_path}|g' /content/diff-svc/training/config.yaml\n",
        "  elif pretrain_model_select == \"nehito (male)\":\n",
        "    !wget \"https://github.com/haru0l/Diff-SVC-notebooks/releases/download/models/nehito.ckpt\"\n",
        "    pretrain_path = \"/content/diff-svc/pretrain/nehito.ckpt\"\n",
        "    !sed -i -r 's|(load_ckpt:)(\\s+)(.+)|\\1\\2{pretrain_path}|g' /content/diff-svc/training/config.yaml\n",
        "  elif pretrain_model_select == \"opencpop (female)\":\n",
        "    !wget \"https://github.com/haru0l/Diff-SVC-notebooks/releases/download/models/opencpop.ckpt\"\n",
        "    pretrain_path = \"/content/diff-svc/pretrain/opencpop.ckpt\"\n",
        "    !sed -i -r 's|(load_ckpt:)(\\s+)(.+)|\\1\\2{pretrain_path}|g' /content/diff-svc/training/config.yaml\n",
        "  elif pretrain_model_select == \"custom\":\n",
        "    !sed -i -r 's|(load_ckpt:)(\\s+)(.+)|\\1\\2{pretrain_path}|g' /content/diff-svc/training/config.yaml\n",
        "\n",
        "!sed -i -r 's|(max_sentences:)(\\s+)(.+)|\\1\\2{batch_size}|g' /content/diff-svc/training/config.yaml\n",
        "!sed -i -r 's|(decay_steps:)(\\s+)(.+)|\\1\\2{decay_steps}|g' /content/diff-svc/training/config.yaml\n",
        "!sed -i -r 's|(lr:)(\\s+)(.+)|\\1\\2{lr}|g' /content/diff-svc/training/config.yaml\n",
        "!sed -i -r 's|(K_step:)(\\s+)(.+)|\\1\\2{K_step}|g' /content/diff-svc/training/config.yaml\n",
        "!sed -i -r 's|(max_sentences:)(\\s+)(.+)|\\1\\2{batch_size}|g' /content/diff-svc/training/config.yaml\n",
        "!sed -i -r 's|(use_crepe:)(\\s+)(.+)|\\1\\2{use_crepe}|g' /content/diff-svc/training/config.yaml\n",
        "!sed -i -r 's|(val_check_interval:)(\\s+)(.+)|\\1\\2{checkpoint_interval}|g' /content/diff-svc/training/config.yaml\n",
        "!sed -i -r 's|(no_fs2:)(\\s+)(.+)|\\1\\2{disable_fs2}|g' /content/diff-svc/training/config.yaml\n",
        "\n",
        "#clear_output()\n",
        "print('Done!')"
      ],
      "metadata": {
        "id": "CEWhfwEmLoQx",
        "cellView": "form"
      },
      "execution_count": null,
      "outputs": []
    },
    {
      "cell_type": "markdown",
      "source": [
        "# Training\n",
        "Finally, the dreaded part."
      ],
      "metadata": {
        "id": "4s-RqXnR-UOa"
      }
    },
    {
      "cell_type": "code",
      "source": [
        "#@title #Step 4: Pre-processing\n",
        "#@markdown This step is also known as data prep or feature generation, who cares?\n",
        "#@markdown\n",
        "%cd \"/content/diff-svc/\"\n",
        "\n",
        "os.environ['PYTHONPATH']='.'\n",
        "!CUDA_VISIBLE_DEVICES=0 python preprocessing/binarize.py --config training/config.yaml\n",
        "%cd \"/content/diff-svc/data\"\n",
        "!7za -bso0 a \"/content/{singer_name}_binary_data.7z\" \"binary/{singer_name}\"\n",
        "if not os.path.exists('/content/drive/MyDrive/diff-svc/data'):\n",
        "    !mkdir -p /content/drive/MyDrive/diff-svc/data\n",
        "!mv -v \"/content/{singer_name}_binary_data.7z\" /content/drive/MyDrive/diff-svc/data"
      ],
      "metadata": {
        "cellView": "form",
        "id": "wsHTxKEO-ZwV",
        "outputId": "de8fa1c9-944e-40ca-e04f-1937d3dc6976",
        "colab": {
          "base_uri": "https://localhost:8080/"
        }
      },
      "execution_count": null,
      "outputs": [
        {
          "output_type": "stream",
          "name": "stdout",
          "text": [
            "/content/diff-svc\n",
            "| Hparams chains:  ['training/config.yaml']\n",
            "| Hparams: \n",
            "\u001b[;33;mK_step\u001b[0m: 1000, \u001b[;33;maccumulate_grad_batches\u001b[0m: 1, \u001b[;33;maudio_num_mel_bins\u001b[0m: 80, \u001b[;33;maudio_sample_rate\u001b[0m: 24000, \u001b[;33;mbinarization_args\u001b[0m: {'shuffle': False, 'with_align': True, 'with_f0': True, 'with_hubert': True, 'with_spk_embed': False, 'with_wav': False}, \n",
            "\u001b[;33;mbinarizer_cls\u001b[0m: preprocessing.SVCpre.SVCBinarizer, \u001b[;33;mbinary_data_dir\u001b[0m: data/binary/ikuta, \u001b[;33;mcheck_val_every_n_epoch\u001b[0m: 10, \u001b[;33;mchoose_test_manually\u001b[0m: False, \u001b[;33;mclip_grad_norm\u001b[0m: 1, \n",
            "\u001b[;33;mconfig_path\u001b[0m: training/config.yaml, \u001b[;33;mcontent_cond_steps\u001b[0m: [], \u001b[;33;mcwt_add_f0_loss\u001b[0m: False, \u001b[;33;mcwt_hidden_size\u001b[0m: 128, \u001b[;33;mcwt_layers\u001b[0m: 2, \n",
            "\u001b[;33;mcwt_loss\u001b[0m: l1, \u001b[;33;mcwt_std_scale\u001b[0m: 0.8, \u001b[;33;mdatasets\u001b[0m: ['opencpop'], \u001b[;33;mdebug\u001b[0m: False, \u001b[;33;mdec_ffn_kernel_size\u001b[0m: 9, \n",
            "\u001b[;33;mdec_layers\u001b[0m: 4, \u001b[;33;mdecay_steps\u001b[0m: 60000, \u001b[;33;mdecoder_type\u001b[0m: fft, \u001b[;33;mdict_dir\u001b[0m: , \u001b[;33;mdiff_decoder_type\u001b[0m: wavenet, \n",
            "\u001b[;33;mdiff_loss_type\u001b[0m: l2, \u001b[;33;mdilation_cycle_length\u001b[0m: 4, \u001b[;33;mdropout\u001b[0m: 0.1, \u001b[;33;mds_workers\u001b[0m: 4, \u001b[;33;mdur_enc_hidden_stride_kernel\u001b[0m: ['0,2,3', '0,2,3', '0,1,3'], \n",
            "\u001b[;33;mdur_loss\u001b[0m: mse, \u001b[;33;mdur_predictor_kernel\u001b[0m: 3, \u001b[;33;mdur_predictor_layers\u001b[0m: 5, \u001b[;33;menc_ffn_kernel_size\u001b[0m: 9, \u001b[;33;menc_layers\u001b[0m: 4, \n",
            "\u001b[;33;mencoder_K\u001b[0m: 8, \u001b[;33;mencoder_type\u001b[0m: fft, \u001b[;33;mendless_ds\u001b[0m: True, \u001b[;33;mf0_bin\u001b[0m: 256, \u001b[;33;mf0_max\u001b[0m: 1100.0, \n",
            "\u001b[;33;mf0_min\u001b[0m: 50.0, \u001b[;33;mffn_act\u001b[0m: gelu, \u001b[;33;mffn_padding\u001b[0m: SAME, \u001b[;33;mfft_size\u001b[0m: 512, \u001b[;33;mfmax\u001b[0m: 12000, \n",
            "\u001b[;33;mfmin\u001b[0m: 30, \u001b[;33;mfs2_ckpt\u001b[0m: , \u001b[;33;mgaussian_start\u001b[0m: True, \u001b[;33;mgen_dir_name\u001b[0m: , \u001b[;33;mgen_tgt_spk_id\u001b[0m: -1, \n",
            "\u001b[;33;mhidden_size\u001b[0m: 256, \u001b[;33;mhop_size\u001b[0m: 128, \u001b[;33;mhubert_gpu\u001b[0m: True, \u001b[;33;mhubert_path\u001b[0m: checkpoints/hubert/hubert_soft.pt, \u001b[;33;minfer\u001b[0m: False, \n",
            "\u001b[;33;mkeep_bins\u001b[0m: 80, \u001b[;33;mlambda_commit\u001b[0m: 0.25, \u001b[;33;mlambda_energy\u001b[0m: 0.0, \u001b[;33;mlambda_f0\u001b[0m: 1.0, \u001b[;33;mlambda_ph_dur\u001b[0m: 0.3, \n",
            "\u001b[;33;mlambda_sent_dur\u001b[0m: 1.0, \u001b[;33;mlambda_uv\u001b[0m: 1.0, \u001b[;33;mlambda_word_dur\u001b[0m: 1.0, \u001b[;33;mload_ckpt\u001b[0m: /content/diff-svc/pretrain/nehito.ckpt, \u001b[;33;mlog_interval\u001b[0m: 100, \n",
            "\u001b[;33;mloud_norm\u001b[0m: False, \u001b[;33;mlr\u001b[0m: 5e-05, \u001b[;33;mmax_beta\u001b[0m: 0.02, \u001b[;33;mmax_epochs\u001b[0m: 3000, \u001b[;33;mmax_eval_sentences\u001b[0m: 1, \n",
            "\u001b[;33;mmax_eval_tokens\u001b[0m: 60000, \u001b[;33;mmax_frames\u001b[0m: 42000, \u001b[;33;mmax_input_tokens\u001b[0m: 60000, \u001b[;33;mmax_sentences\u001b[0m: 12, \u001b[;33;mmax_tokens\u001b[0m: 128000, \n",
            "\u001b[;33;mmax_updates\u001b[0m: 1000000, \u001b[;33;mmel_loss\u001b[0m: ssim:0.5|l1:0.5, \u001b[;33;mmel_vmax\u001b[0m: 1.5, \u001b[;33;mmel_vmin\u001b[0m: -6.0, \u001b[;33;mmin_level_db\u001b[0m: -120, \n",
            "\u001b[;33;mno_fs2\u001b[0m: False, \u001b[;33;mnorm_type\u001b[0m: gn, \u001b[;33;mnum_ckpt_keep\u001b[0m: 10, \u001b[;33;mnum_heads\u001b[0m: 2, \u001b[;33;mnum_sanity_val_steps\u001b[0m: 1, \n",
            "\u001b[;33;mnum_spk\u001b[0m: 1, \u001b[;33;mnum_test_samples\u001b[0m: 0, \u001b[;33;mnum_valid_plots\u001b[0m: 10, \u001b[;33;moptimizer_adam_beta1\u001b[0m: 0.9, \u001b[;33;moptimizer_adam_beta2\u001b[0m: 0.98, \n",
            "\u001b[;33;mout_wav_norm\u001b[0m: False, \u001b[;33;mpe_ckpt\u001b[0m: checkpoints/0102_xiaoma_pe/model_ckpt_steps_60000.ckpt, \u001b[;33;mpe_enable\u001b[0m: False, \u001b[;33;mperform_enhance\u001b[0m: True, \u001b[;33;mpitch_ar\u001b[0m: False, \n",
            "\u001b[;33;mpitch_enc_hidden_stride_kernel\u001b[0m: ['0,2,5', '0,2,5', '0,2,5'], \u001b[;33;mpitch_extractor\u001b[0m: parselmouth, \u001b[;33;mpitch_loss\u001b[0m: l2, \u001b[;33;mpitch_norm\u001b[0m: log, \u001b[;33;mpitch_type\u001b[0m: frame, \n",
            "\u001b[;33;mpndm_speedup\u001b[0m: 10, \u001b[;33;mpre_align_args\u001b[0m: {'allow_no_txt': False, 'denoise': False, 'forced_align': 'mfa', 'txt_processor': 'zh_g2pM', 'use_sox': True, 'use_tone': False}, \u001b[;33;mpre_align_cls\u001b[0m: data_gen.singing.pre_align.SingingPreAlign, \u001b[;33;mpredictor_dropout\u001b[0m: 0.5, \u001b[;33;mpredictor_grad\u001b[0m: 0.1, \n",
            "\u001b[;33;mpredictor_hidden\u001b[0m: -1, \u001b[;33;mpredictor_kernel\u001b[0m: 5, \u001b[;33;mpredictor_layers\u001b[0m: 5, \u001b[;33;mprenet_dropout\u001b[0m: 0.5, \u001b[;33;mprenet_hidden_size\u001b[0m: 256, \n",
            "\u001b[;33;mpretrain_fs_ckpt\u001b[0m: pretrain/nyaru/model_ckpt_steps_60000.ckpt, \u001b[;33;mprocessed_data_dir\u001b[0m: xxx, \u001b[;33;mprofile_infer\u001b[0m: False, \u001b[;33;mraw_data_dir\u001b[0m: data/raw/ikuta, \u001b[;33;mref_norm_layer\u001b[0m: bn, \n",
            "\u001b[;33;mrel_pos\u001b[0m: True, \u001b[;33;mreset_phone_dict\u001b[0m: True, \u001b[;33;mresidual_channels\u001b[0m: 256, \u001b[;33;mresidual_layers\u001b[0m: 20, \u001b[;33;msave_best\u001b[0m: False, \n",
            "\u001b[;33;msave_ckpt\u001b[0m: True, \u001b[;33;msave_codes\u001b[0m: ['configs', 'modules', 'src', 'utils'], \u001b[;33;msave_f0\u001b[0m: True, \u001b[;33;msave_gt\u001b[0m: False, \u001b[;33;mschedule_type\u001b[0m: linear, \n",
            "\u001b[;33;mseed\u001b[0m: 1234, \u001b[;33;msort_by_len\u001b[0m: True, \u001b[;33;mspeaker_id\u001b[0m: ikuta, \u001b[;33;mspec_max\u001b[0m: [0.2987259328365326, 0.29721200466156006, 0.23978209495544434, 0.208412766456604, 0.25777050852775574, 0.2514476478099823, 0.1129382848739624, 0.03415697440505028, 0.09860049188137054, 0.10637332499027252, 0.13287633657455444, 0.19744250178337097, 0.10040587931871414, 0.13735432922840118, 0.15107455849647522, 0.17196381092071533, 0.08298977464437485, 0.0632769986987114, 0.02723858878016472, -0.001819317927584052, -0.029565516859292984, -0.023574354127049446, -0.01633293740451336, 0.07143621146678925, 0.021580500528216362, 0.07257916033267975, -0.024349519982933998, -0.06165708228945732, -0.10486568510532379, -0.1363687664270401, -0.13333871960639954, -0.13955898582935333, -0.16613495349884033, -0.17636367678642273, -0.2786925733089447, -0.22967253625392914, -0.31897130608558655, -0.18007366359233856, -0.29366692900657654, -0.2871025800704956, -0.36748355627059937, -0.46071451902389526, -0.5464922189712524, -0.5719417333602905, -0.6020897626876831, -0.6239874958992004, -0.5653440952301025, -0.6508013606071472, -0.628247857093811, -0.6809687614440918, -0.569259762763977, -0.5423558354377747, -0.5811785459518433, -0.5359002351760864, -0.6565515398979187, -0.7143737077713013, -0.8502675890922546, -0.7979224920272827, -0.7110578417778015, -0.763409435749054, -0.7984790802001953, -0.6927220821380615, -0.658117413520813, -0.7486468553543091, -0.5949879884719849, -0.7494576573371887, -0.7400822639465332, -0.6822793483734131, -0.7773582339286804, -0.661201536655426, -0.791329026222229, -0.8982341885566711, -0.8736728429794312, -0.7701027393341064, -0.8490535616874695, -0.7479292154312134, -0.9320166110992432, -1.2862414121627808, -2.8936190605163574, -2.924229860305786], \u001b[;33;mspec_min\u001b[0m: [-6.0, -6.0, -6.0, -6.0, -6.0, -6.0, -6.0, -6.0, -6.0, -6.0, -6.0, -6.0, -6.0, -6.0, -6.0, -6.0, -6.0, -6.0, -6.0, -6.0, -6.0, -6.0, -6.0, -6.0, -6.0, -6.0, -6.0, -6.0, -6.0, -6.0, -6.0, -6.0, -6.0, -6.0, -6.0, -6.0, -6.0, -6.0, -6.0, -6.0, -6.0, -6.0, -6.0, -6.0, -6.0, -6.0, -6.0, -6.0, -6.0, -6.0, -6.0, -6.0, -6.0, -6.0, -6.0, -6.0, -6.0, -6.0, -6.0, -6.0, -6.0, -6.0, -6.0, -6.0, -6.0, -6.0, -6.0, -5.999454021453857, -5.8822431564331055, -5.892064571380615, -5.882402420043945, -5.786972522735596, -5.746835231781006, -5.8594512939453125, -5.7389445304870605, -5.718059539794922, -5.779720306396484, -5.801984786987305, -6.0, -6.0], \n",
            "\u001b[;33;mspk_cond_steps\u001b[0m: [], \u001b[;33;mstop_token_weight\u001b[0m: 5.0, \u001b[;33;mtask_cls\u001b[0m: training.task.SVC_task.SVCTask, \u001b[;33;mtest_ids\u001b[0m: [], \u001b[;33;mtest_input_dir\u001b[0m: , \n",
            "\u001b[;33;mtest_num\u001b[0m: 0, \u001b[;33;mtest_prefixes\u001b[0m: ['test'], \u001b[;33;mtest_set_name\u001b[0m: test, \u001b[;33;mtimesteps\u001b[0m: 1000, \u001b[;33;mtrain_set_name\u001b[0m: train, \n",
            "\u001b[;33;muse_crepe\u001b[0m: True, \u001b[;33;muse_denoise\u001b[0m: False, \u001b[;33;muse_energy_embed\u001b[0m: False, \u001b[;33;muse_gt_dur\u001b[0m: False, \u001b[;33;muse_gt_f0\u001b[0m: False, \n",
            "\u001b[;33;muse_midi\u001b[0m: False, \u001b[;33;muse_nsf\u001b[0m: True, \u001b[;33;muse_pitch_embed\u001b[0m: True, \u001b[;33;muse_pos_embed\u001b[0m: True, \u001b[;33;muse_spk_embed\u001b[0m: False, \n",
            "\u001b[;33;muse_spk_id\u001b[0m: False, \u001b[;33;muse_split_spk_id\u001b[0m: False, \u001b[;33;muse_uv\u001b[0m: False, \u001b[;33;muse_var_enc\u001b[0m: False, \u001b[;33;muse_vec\u001b[0m: False, \n",
            "\u001b[;33;mval_check_interval\u001b[0m: 1000, \u001b[;33;mvalid_num\u001b[0m: 0, \u001b[;33;mvalid_set_name\u001b[0m: valid, \u001b[;33;mvalidate\u001b[0m: False, \u001b[;33;mvocoder\u001b[0m: network.vocoders.hifigan.HifiGAN, \n",
            "\u001b[;33;mvocoder_ckpt\u001b[0m: checkpoints/0109_hifigan_bigpopcs_hop128, \u001b[;33;mwarmup_updates\u001b[0m: 2000, \u001b[;33;mwav2spec_eps\u001b[0m: 1e-6, \u001b[;33;mweight_decay\u001b[0m: 0, \u001b[;33;mwin_size\u001b[0m: 512, \n",
            "\u001b[;33;mwork_dir\u001b[0m: , \n",
            "| Binarizer:  <class 'preprocessing.SVCpre.SVCBinarizer'>\n",
            "spkers:  {'ikuta'}\n",
            "| spk_map:  {'ikuta': 0}\n",
            "100% 5/5 [00:35<00:00,  7.07s/it]\n",
            "| valid total duration: 74.965s\n",
            "100% 5/5 [00:27<00:00,  5.58s/it]\n",
            "| test total duration: 74.965s\n",
            " 54% 83/155 [07:48<06:39,  5.55s/it]"
          ]
        }
      ]
    },
    {
      "cell_type": "code",
      "source": [
        "#@title #Step 5-0: Setup for small datasets\n",
        "#@markdown If your dataset is small (under 1 hour), each epoch will go by very fast and won't have enough time to train well, so if your dataset is considered small, run this cell.\n",
        "\n",
        "#@markdown DO NOT RUN IF YOUR DATASET IS GOOD ENOUGH IN TERMS OF SIZE!\n",
        "\n",
        "endless_ds = True\n",
        "!sed -i -r 's|(endless_ds:)(\\s+)(.+)|\\1\\2{endless_ds}|g' /content/diff-svc/training/config.yaml\n",
        "print(\"done!\")"
      ],
      "metadata": {
        "id": "Nt5JW8GSBdbh",
        "cellView": "form"
      },
      "execution_count": null,
      "outputs": []
    },
    {
      "cell_type": "code",
      "source": [
        "#@title #Step 5-1 Tensorboard (run before step 5)\n",
        "#@markdown Shows training progress, go to the top right corner to set it to update the logs.\n",
        "\n",
        "import datetime, os\n",
        "\n",
        "if use_save_dir:\n",
        "  %tensorboard --load_fast=true --reload_interval=1 --reload_multifile=true --logdir=\"{save_dir}/lightning_logs/\"\n",
        "else:\n",
        "  %tensorboard --load_fast=true --reload_interval=1 --reload_multifile=true --logdir=/content/diff-svc/checkpoints/{singer_name}/lightning_logs/\n"
      ],
      "metadata": {
        "cellView": "form",
        "id": "L5ioLY0qkohN"
      },
      "execution_count": null,
      "outputs": []
    },
    {
      "cell_type": "code",
      "source": [
        "#@title #Step 5: Training\n",
        "#@markdown Yeah, it took THAT long to get here, colab is probably going to disconnect you at this point... unless you have pro ¯\\\\_(ツ)_/¯\n",
        "%cd \"/content/diff-svc/\"\n",
        "\n",
        "os.environ['PYTHONPATH']='.'\n",
        "\n",
        "!CUDA_VISIBLE_DEVICES=0 python run.py --config training/config.yaml --exp_name $singer_name --reset"
      ],
      "metadata": {
        "cellView": "form",
        "id": "NvlB1oCR_lxh"
      },
      "execution_count": null,
      "outputs": []
    },
    {
      "cell_type": "code",
      "source": [
        "#@title # Step 6: Package Model\n",
        "#@markdown If you used a custom directory for saving your models please don't use this.\n",
        "\n",
        "store_on_drive = True #@param {type: \"boolean\"}\n",
        "from datetime import datetime, timezone\n",
        "import glob\n",
        "\n",
        "time_now = datetime.now(timezone.utc).strftime('%Y-%m-%d %H-%M-%S')\n",
        "\n",
        "archive_name = f'{singer_name}_{time_now}'\n",
        "\n",
        "if use_save_dir:\n",
        "  %cd {save_dir}\n",
        "  !zip -r \"/content/{archive_name}.zip\" ./ -x ./lighting_logs/\\*\n",
        "else:\n",
        "  %cd /content/diff-svc/checkpoints\n",
        "  !zip -r \"/content/{archive_name}.zip\" ./{singer_name} -x ./{singer_name}/lighting_logs/\\*\n",
        "\n",
        "if store_on_drive:\n",
        "      if not os.path.exists('/content/drive/MyDrive/Diff-SVC_release'):\n",
        "          !mkdir /content/drive/MyDrive/Diff-SVC_release\n",
        "      \n",
        "      !mv -v \"/content/{archive_name}.zip\" /content/drive/MyDrive/Diff-SVC_release\n",
        "\n",
        "print('Done!')"
      ],
      "metadata": {
        "id": "4LMFPfo3dGTG",
        "cellView": "form"
      },
      "execution_count": null,
      "outputs": []
    }
  ]
}