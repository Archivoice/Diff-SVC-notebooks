{
  "nbformat": 4,
  "nbformat_minor": 0,
  "metadata": {
    "colab": {
      "provenance": [],
      "include_colab_link": true
    },
    "kernelspec": {
      "name": "python3",
      "display_name": "Python 3"
    },
    "language_info": {
      "name": "python"
    },
    "gpuClass": "standard",
    "accelerator": "GPU"
  },
  "cells": [
    {
      "cell_type": "markdown",
      "metadata": {
        "id": "view-in-github",
        "colab_type": "text"
      },
      "source": [
        "<a href=\"https://colab.research.google.com/github/haru0l/Diff-SVC-notebooks/blob/main/Diff_SVC_training_notebook_(colab_ver_).ipynb\" target=\"_parent\"><img src=\"https://colab.research.google.com/assets/colab-badge.svg\" alt=\"Open In Colab\"/></a>"
      ]
    },
    {
      "cell_type": "markdown",
      "source": [
        "Training notebook for [Diff-SVC](https://github.com/prophesier/diff-svc) written by [Nekro](https://twitter.com/NekroTheCorpse) of [Archivoice](https://github.com/archivoice)\n"
      ],
      "metadata": {
        "id": "qI-wDbQDmSjx"
      }
    },
    {
      "cell_type": "markdown",
      "source": [
        "# Check Setup"
      ],
      "metadata": {
        "id": "G6guqBnrD3qb"
      }
    },
    {
      "cell_type": "code",
      "execution_count": null,
      "metadata": {
        "cellView": "form",
        "id": "WcC2XWVgC4T0"
      },
      "outputs": [],
      "source": [
        "#@title #Check GPU type\n",
        "#@markdown this is for checking the GPU type you have as well as the available amount of vram.\n",
        "!nvidia-smi -L\n",
        "!nvidia-smi"
      ]
    },
    {
      "cell_type": "code",
      "source": [
        "#@title #Mount Google Drive\n",
        "\n",
        "#@markdown Makes your life easier when uploading and saving stuff.\n",
        "\n",
        "from google.colab import drive\n",
        "drive.flush_and_unmount()\n",
        "!rm -rf /content/drive\n",
        "drive.mount('/content/drive')\n",
        "print('Done!')"
      ],
      "metadata": {
        "cellView": "form",
        "id": "VSyF4oZhDxgW"
      },
      "execution_count": null,
      "outputs": []
    },
    {
      "cell_type": "markdown",
      "source": [
        "# Preparation"
      ],
      "metadata": {
        "id": "MGNHNSGcEFHj"
      }
    },
    {
      "cell_type": "code",
      "source": [
        "#@title #Step 1: Install Diff-SVC\n",
        "#@markdown The stuff you'll need for every other thing afterwards.\n",
        "from IPython.display import clear_output \n",
        "import os\n",
        "print('Upgrading pip & installing 7zip')\n",
        "!rm -rf /content/sample_data\n",
        "!python -m pip install --upgrade pip\n",
        "!python -m pip install --upgrade wheel\n",
        "!apt-get install unzip\n",
        "!pip install gdown\n",
        "\n",
        "print('Installing torch')\n",
        "%pip install torch==1.12.1+cu113 torchvision==0.13.1+cu113 torchaudio==0.12.1+cu113 -f https://download.pytorch.org/whl/cu113/torch_stable.html\n",
        "!pip install --pre torchtext==0.6.0 --no-deps\n",
        "\n",
        "#@markdown ---\n",
        "#@markdown ###Select which fork to use\n",
        "#@markdown The official repo is up-to-date, while UtaUtaUtau's version has Harvest support for improved f0.\n",
        "fork = 'Official Diff-SVC Repo' #@param [\"Official Diff-SVC Repo\", \"UtaUtaUtau's Repo\"]\n",
        "\n",
        "#@markdown ---\n",
        "#@markdown ###Use custom save directory\n",
        "#@markdown You can change the directory to save wherever you want. Default location is /diff-svc/checkpoint if unchanged.\n",
        "\n",
        "#@markdown Please point to a directory with the singer name already specified (example /content/drive/MyDrive/diff-svc/nyaru)\n",
        "\n",
        "use_save_dir = False #@param {type: \"boolean\"}\n",
        "\n",
        "save_dir = \"\" #@param {type: \"string\"}\n",
        "\n",
        "if use_save_dir:\n",
        "  %cd /content/diff-svc/utils\n",
        "  !rm -rf hparams.py\n",
        "  !wget https://github.com/prophesier/diff-svc/raw/main/utils/hparams.py\n",
        "  !sed -i -r 's|checkpoints/\\{args.work_dir}|haruwashere|g' /content/diff-svc/utils/hparams.py\n",
        "  !sed -i -r 's|haruwashere|{save_dir}|g' /content/diff-svc/utils/hparams.py\n",
        "  %cd /content/\n",
        "else:\n",
        "  %cd /content/diff-svc/utils\n",
        "  !rm -rf hparams.py\n",
        "  !wget https://github.com/prophesier/diff-svc/raw/main/utils/hparams.py\n",
        "  %cd /content/\n",
        "\n",
        "\n",
        "print('Installing Diff-SVC')\n",
        "if fork == \"Official Diff-SVC Repo\":\n",
        "  !git clone https://github.com/prophesier/diff-svc &> /dev/null\n",
        "else:\n",
        "  !git clone --branch harvest-preprocess https://github.com/UtaUtaUtau/diff-svc &> /dev/null\n",
        "%cd \n",
        "\n",
        "print('Installing requirements')\n",
        "%cd \"/content/diff-svc/\"\n",
        "!pip install -r requirements_short.txt\n",
        "!pip install tensorboard<2.9,>=2.8\n",
        "%reload_ext tensorboard\n",
        "\n",
        "%cd \"/content/diff-svc/training/\"\n",
        "!rm config.yaml\n",
        "!wget https://github.com/haru0l/Diff-SVC-notebooks/releases/download/checkpoints/config.yaml -O config.yaml\n",
        "%cd \"/content/\"\n",
        "!wget \"https://github.com/haru0l/Diff-SVC-notebooks/releases/download/checkpoints/checkpoints.zip\" -O checkpoints.zip\n",
        "%mkdir -p /content/diff-svc/checkpoints/\n",
        "!unzip /content/checkpoints.zip -d /content/diff-svc/\n",
        "clear_output()\n",
        "print('Done!')"
      ],
      "metadata": {
        "id": "IYxufeQ9EKuY"
      },
      "execution_count": null,
      "outputs": []
    },
    {
      "cell_type": "code",
      "source": [
        "#@title #Step 2: Decompress dataset\n",
        "#@markdown This should work with most common archive formats, so don't worry. Please stick with the alphabet characters otherwise preprocessing might error out.\n",
        "\n",
        "#@markdown Supported types: `.rar`, `.zip`, `.tar`, `.tar.gz`, `.tar.bz2`, `.7z`\n",
        "\n",
        "#@markdown ###Note that your dataset should consist of `.wav` or `.ogg` format audio\n",
        "#@markdown ---\n",
        "#@markdown Name your singer.\n",
        "singer_name = 'Unnamed' #@param {type: \"string\"}\n",
        "%cd \"/content/\"\n",
        "!sed -i -r 's/atri/{singer_name}/g' /content/diff-svc/training/config.yaml\n",
        "\n",
        "#@markdown ---\n",
        "#@markdown File location\n",
        "!mkdir -p /content/diff-svc/data/raw\n",
        "dataset_location = '/content/drive/MyDrive/*' #@param {type: \"string\"}\n",
        "diffsvc_location = os.path.join('diff-svc', 'data', 'raw', singer_name, \"\")\n",
        "\n",
        "if dataset_location.endswith('.rar'):\n",
        "    !unrar x \"$dataset_location\" \"$diffsvc_location\"\n",
        "elif dataset_location.endswith('.zip'):\n",
        "    !unzip \"$dataset_location\" -d \"$diffsvc_location\"\n",
        "elif dataset_location.endswith('.tar'):\n",
        "    !tar -xf \"$dataset_location\" -C \"$diffsvc_location\"\n",
        "elif dataset_location.endswith('.tar.gz'):\n",
        "    !tar -xzf \"$dataset_location\" -C \"$diffsvc_location\"\n",
        "elif dataset_location.endswith('.tar.bz2'):\n",
        "    !tar -xjf \"$dataset_location\" -C \"$diffsvc_location\"\n",
        "else:\n",
        "    !7za x \"$dataset_location\" -o$diffsvc_location\n",
        "\n",
        "print('Done!')"
      ],
      "metadata": {
        "id": "7nAx7UOUHX_H",
        "cellView": "form"
      },
      "execution_count": null,
      "outputs": []
    },
    {
      "cell_type": "code",
      "source": [
        "#@title #Step 2-A: Decompress training data\n",
        "#@markdown Decompresses training data directly to `diff-svc/data/binary`, usable only if you already have the output files of Step 4.\n",
        "\n",
        "#@markdown Supported types: check above. \n",
        "\n",
        "#@markdown ###You must match the training settings of the config.yaml file you used to generated the preprocessed data.\n",
        "#@markdown ---\n",
        "#@markdown Name your singer.\n",
        "singer_name = 'Unnamed' #@param {type: \"string\"}\n",
        "!sed -i -r 's/atri/{singer_name}/g' /content/diff-svc/training/config.yaml\n",
        "\n",
        "#@markdown ---\n",
        "#@markdown File location\n",
        "!mkdir -p /content/diff-svc/data/binary\n",
        "preprocessed_data_location = '/content/drive/MyDrive/*' #@param {type: \"string\"}\n",
        "diffsvc_bin_location = '/content/diff-svc/data'\n",
        "\n",
        "if preprocessed_data_location.endswith('.rar'):\n",
        "    !unrar x \"$preprocessed_data_location\" \"$diffsvc_bin_location\"\n",
        "elif preprocessed_data_location.endswith('.zip'):\n",
        "    !unzip \"$preprocessed_data_location\" -d \"$diffsvc_bin_location\"\n",
        "elif preprocessed_data_location.endswith('.tar'):\n",
        "    !tar -xf \"$preprocessed_data_location\" -C \"$diffsvc_bin_location\"\n",
        "elif preprocessed_data_location.endswith('.tar.gz'):\n",
        "    !tar -xzf \"$preprocessed_data_location\" -C \"$diffsvc_bin_location\"\n",
        "elif preprocessed_data_location.endswith('.tar.bz2'):\n",
        "    !tar -xjf \"$preprocessed_data_location\" -C \"$diffsvc_bin_location\"\n",
        "else:\n",
        "    !7za x \"$preprocessed_data_location\" -o$diffsvc_bin_location\n",
        "\n",
        "print('Done!')"
      ],
      "metadata": {
        "cellView": "form",
        "id": "AbGW1MheDW2x"
      },
      "execution_count": null,
      "outputs": []
    },
    {
      "cell_type": "markdown",
      "source": [
        "# Training Options/Parameters\n",
        "Unfortunately, you can not get away with no editing, not completely that is."
      ],
      "metadata": {
        "id": "kc4uiI1WLsI7"
      }
    },
    {
      "cell_type": "code",
      "source": [
        "#@title #Step 3: Edit training parameters\n",
        "\n",
        "K_step = 1000\n",
        "\n",
        "batch_size = 12\n",
        "\n",
        "#@markdown ---\n",
        "#@markdown ###F0 extraction method\n",
        "#@markdown Crepe is used for F0 extraction for data preprocessing, while it is of higher quality, it is slow, therefore set to false as default.\n",
        "\n",
        "#@markdown Unchecking this while using the official repo will default to parselmouth, while using UtaUtaUtau's repo will use harvest.\n",
        "use_crepe = True #@param {type: \"boolean\"}\n",
        "\n",
        "#@markdown ---\n",
        "#@markdown ###Set checkpoint interval\n",
        "#@markdown As the name states, saves a checkpoint at an interval. When using GPU training, it runs quite fast, so try not to touch this, there's no point.\n",
        "checkpoint_interval = 1000 #@param {type: \"integer\"}\n",
        "decay_steps = 20000\n",
        "lr = '0.0008'\n",
        "!sed -i -r 's|(decay_steps:)(\\s+)(.+)|\\1\\2{decay_steps}|g' /content/diff-svc/training/config.yaml\n",
        "!sed -i -r 's|(lr:)(\\s+)(.+)|\\1\\2{lr}|g' /content/diff-svc/training/config.yaml\n",
        "!sed -i -r 's|(K_step:)(\\s+)(.+)|\\1\\2{K_step}|g' /content/diff-svc/training/config.yaml\n",
        "!sed -i -r 's|(max_sentences:)(\\s+)(.+)|\\1\\2{batch_size}|g' /content/diff-svc/training/config.yaml\n",
        "!sed -i -r 's|(use_crepe:)(\\s+)(.+)|\\1\\2{use_crepe}|g' /content/diff-svc/training/config.yaml\n",
        "!sed -i -r 's|(val_check_interval:)(\\s+)(.+)|\\1\\2{checkpoint_interval}|g' /content/diff-svc/training/config.yaml\n",
        "\n",
        "clear_output()\n",
        "print('Done!')"
      ],
      "metadata": {
        "id": "CEWhfwEmLoQx",
        "cellView": "form"
      },
      "execution_count": null,
      "outputs": []
    },
    {
      "cell_type": "markdown",
      "source": [
        "# Training\n",
        "Finally, the dreaded part."
      ],
      "metadata": {
        "id": "4s-RqXnR-UOa"
      }
    },
    {
      "cell_type": "code",
      "source": [
        "#@title #Step 4: Pre-processing\n",
        "#@markdown This step is also known as data prep or feature generation, who cares?\n",
        "#@markdown\n",
        "%cd \"/content/diff-svc/\"\n",
        "\n",
        "os.environ['PYTHONPATH']='.'\n",
        "!CUDA_VISIBLE_DEVICES=0 python preprocessing/binarize.py --config training/config.yaml\n",
        "%cd \"/content/diff-svc/data\"\n",
        "!7za -bso0 a \"/content/{singer_name}_binary_data.7z\" \"binary/{singer_name}\"\n",
        "if not os.path.exists('/content/drive/MyDrive/Diff-SVC/data'):\n",
        "    !mkdir -p /content/drive/MyDrive/Diff-SVC/data\n",
        "!mv -v \"/content/{singer_name}_binary_data.7z\" /content/drive/MyDrive/Diff-SVC/data"
      ],
      "metadata": {
        "cellView": "form",
        "id": "wsHTxKEO-ZwV"
      },
      "execution_count": null,
      "outputs": []
    },
    {
      "cell_type": "code",
      "source": [
        "#@title #Step 5-0: Setup for small datasets\n",
        "#@markdown If your dataset is small (under 1 hour), each epoch will go by very fast and won't have enough time to train well, so if your dataset is considered small, run this cell.\n",
        "\n",
        "#@markdown DO NOT RUN IF YOUR DATASET IS GOOD ENOUGH IN TERMS OF SIZE!\n",
        "\n",
        "endless_ds = True\n",
        "!sed -i -r 's|(endless_ds:)(\\s+)(.+)|\\1\\2{endless_ds}|g' /content/diff-svc/training/config.yaml\n",
        "print(\"done!\")"
      ],
      "metadata": {
        "cellView": "form",
        "id": "Nt5JW8GSBdbh"
      },
      "execution_count": null,
      "outputs": []
    },
    {
      "cell_type": "code",
      "source": [
        "#@title #Step 5-1 Tensorboard (run before step 5)\n",
        "#@markdown Shows training progress, go to the top right corner to set it to update the logs.\n",
        "\n",
        "import datetime, os\n",
        "\n",
        "if use_save_dir:\n",
        "  %tensorboard --load_fast=true --reload_interval=1 --reload_multifile=true --logdir=\"{save_dir}/lightning_logs/\"\n",
        "else:\n",
        "  %tensorboard --load_fast=true --reload_interval=1 --reload_multifile=true --logdir=/content/diff-svc/checkpoints/{singer_name}/lightning_logs/\n"
      ],
      "metadata": {
        "cellView": "form",
        "id": "L5ioLY0qkohN"
      },
      "execution_count": null,
      "outputs": []
    },
    {
      "cell_type": "code",
      "source": [
        "#@title #Step 5: Training\n",
        "#@markdown Yeah, it took THAT long to get here, colab is probably going to disconnect you at this point... unless you have pro ¯\\\\_(ツ)_/¯\n",
        "%cd \"/content/diff-svc/\"\n",
        "\n",
        "os.environ['PYTHONPATH']='.'\n",
        "\n",
        "!CUDA_VISIBLE_DEVICES=0 python run.py --config training/config.yaml --exp_name $singer_name --reset"
      ],
      "metadata": {
        "cellView": "form",
        "id": "NvlB1oCR_lxh"
      },
      "execution_count": null,
      "outputs": []
    },
    {
      "cell_type": "code",
      "source": [
        "#@title # Step 6: Package Model\n",
        "store_on_drive = True #@param {type: \"boolean\"}\n",
        "from datetime import datetime, timezone\n",
        "import glob\n",
        "\n",
        "time_now = datetime.now(timezone.utc).strftime('%Y-%m-%d %H-%M-%S')\n",
        "\n",
        "archive_name = f'{singer_name}_{time_now}'\n",
        "\n",
        "if use_save_dir:\n",
        "  %cd {save_dir}\n",
        "  !zip -r \"/content/{archive_name}.zip\" ./ -x ./lighting_logs/\\*\n",
        "else:\n",
        "  %cd /content/diff-svc/checkpoints\n",
        "  !zip -r \"/content/{archive_name}.zip\" ./{singer_name} -x ./{singer_name}/lighting_logs/\\*\n",
        "\n",
        "if store_on_drive:\n",
        "      if not os.path.exists('/content/drive/MyDrive/Diff-SVC_release'):\n",
        "          !mkdir /content/drive/MyDrive/Diff-SVC_release\n",
        "      \n",
        "      !mv -v \"/content/{archive_name}.zip\" /content/drive/MyDrive/Diff-SVC_release\n",
        "\n",
        "print('Done!')"
      ],
      "metadata": {
        "id": "4LMFPfo3dGTG",
        "cellView": "form"
      },
      "execution_count": null,
      "outputs": []
    }
  ]
}